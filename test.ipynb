{
 "cells": [
  {
   "cell_type": "code",
   "execution_count": 1,
   "id": "24239ebc",
   "metadata": {},
   "outputs": [
    {
     "name": "stdout",
     "output_type": "stream",
     "text": [
      "타입: <class 'dict'>\n",
      "내용: {'item_embedding': tensor([[ 1.9085,  1.4951,  0.9079,  ...,  0.3331,  0.7135,  0.3889],\n",
      "        [ 1.9308,  1.0000, -1.4164,  ...,  0.5643,  0.5237,  0.2451],\n",
      "        [-0.8127,  0.5168, -1.5238,  ...,  0.8470, -0.4914, -0.3670],\n",
      "        ...,\n",
      "        [-0.7410,  0.1557, -0.1715,  ...,  1.5167, -1.3734, -0.1472],\n",
      "        [ 0.2163,  0.0290, -0.4034,  ...,  1.7057, -1.5428, -0.3544],\n",
      "        [ 0.8221,  0.7525, -0.2499,  ...,  0.2715, -1.3001,  0.1676]],\n",
      "       device='cuda:0')}\n",
      "키들: ['item_embedding']\n",
      "item_embedding: <class 'torch.Tensor'>, shape: torch.Size([15794, 128])\n"
     ]
    }
   ],
   "source": [
    "import pickle\n",
    "\n",
    "# PKL 파일 로드 및 확인 (한 줄 버전)\n",
    "with open('output/music.pkl', 'rb') as f:\n",
    "    data = pickle.load(f)\n",
    "\n",
    "print(\"타입:\", type(data))\n",
    "print(\"내용:\", data)\n",
    "\n",
    "# 딕셔너리면 키 확인\n",
    "if isinstance(data, dict):\n",
    "    print(\"키들:\", list(data.keys()))\n",
    "    for k, v in data.items():\n",
    "        print(f\"{k}: {type(v)}, shape: {getattr(v, 'shape', 'No shape')}\")"
   ]
  },
  {
   "cell_type": "code",
   "execution_count": null,
   "id": "7bdda9d5",
   "metadata": {},
   "outputs": [],
   "source": []
  }
 ],
 "metadata": {
  "kernelspec": {
   "display_name": "slmrec_env",
   "language": "python",
   "name": "python3"
  },
  "language_info": {
   "codemirror_mode": {
    "name": "ipython",
    "version": 3
   },
   "file_extension": ".py",
   "mimetype": "text/x-python",
   "name": "python",
   "nbconvert_exporter": "python",
   "pygments_lexer": "ipython3",
   "version": "3.10.18"
  }
 },
 "nbformat": 4,
 "nbformat_minor": 5
}
